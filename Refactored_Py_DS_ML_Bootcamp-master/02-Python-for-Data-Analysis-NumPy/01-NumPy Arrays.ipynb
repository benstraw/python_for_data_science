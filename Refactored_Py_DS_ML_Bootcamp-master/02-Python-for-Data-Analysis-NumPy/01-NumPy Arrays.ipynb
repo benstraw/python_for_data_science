{
 "cells": [
  {
   "cell_type": "code",
   "execution_count": null,
   "metadata": {},
   "outputs": [],
   "source": []
  },
  {
   "cell_type": "markdown",
   "metadata": {},
   "source": [
    "___\n",
    "\n",
    "<a href='http://www.pieriandata.com'> <img src='../Pierian_Data_Logo.png' /></a>\n",
    "___"
   ]
  },
  {
   "cell_type": "markdown",
   "metadata": {},
   "source": [
    "# NumPy \n",
    "\n",
    "NumPy (or Numpy) is a Linear Algebra Library for Python, the reason it is so important for Data Science with Python is that almost all of the libraries in the PyData Ecosystem rely on NumPy as one of their main building blocks.\n",
    "\n",
    "Numpy is also incredibly fast, as it has bindings to C libraries. For more info on why you would want to use Arrays instead of lists, check out this great [StackOverflow post](http://stackoverflow.com/questions/993984/why-numpy-instead-of-python-lists).\n",
    "\n",
    "We will only learn the basics of NumPy, to get started we need to install it!"
   ]
  },
  {
   "cell_type": "markdown",
   "metadata": {},
   "source": [
    "## Installation Instructions\n",
    "\n",
    "**It is highly recommended you install Python using the Anaconda distribution to make sure all underlying dependencies (such as Linear Algebra libraries) all sync up with the use of a conda install. If you have Anaconda, install NumPy by going to your terminal or command prompt and typing:**\n",
    "    \n",
    "    conda install numpy\n",
    "    \n",
    "**If you do not have Anaconda and can not install it, please refer to [Numpy's official documentation on various installation instructions.](http://docs.scipy.org/doc/numpy-1.10.1/user/install.html)**"
   ]
  },
  {
   "cell_type": "markdown",
   "metadata": {},
   "source": [
    "## Using NumPy\n",
    "\n",
    "Once you've installed NumPy you can import it as a library:"
   ]
  },
  {
   "cell_type": "code",
   "execution_count": 2,
   "metadata": {},
   "outputs": [],
   "source": [
    "import numpy as np"
   ]
  },
  {
   "cell_type": "markdown",
   "metadata": {},
   "source": [
    "Numpy has many built-in functions and capabilities. We won't cover them all but instead we will focus on some of the most important aspects of Numpy: vectors,arrays,matrices, and number generation. Let's start by discussing arrays.\n",
    "\n",
    "# Numpy Arrays\n",
    "\n",
    "NumPy arrays are the main way we will use Numpy throughout the course. Numpy arrays essentially come in two flavors: vectors and matrices. Vectors are strictly 1-d arrays and matrices are 2-d (but you should note a matrix can still have only one row or one column).\n",
    "\n",
    "Let's begin our introduction by exploring how to create NumPy arrays.\n",
    "\n",
    "## Creating NumPy Arrays\n",
    "\n",
    "### From a Python List\n",
    "\n",
    "We can create an array by directly converting a list or list of lists:"
   ]
  },
  {
   "cell_type": "code",
   "execution_count": 5,
   "metadata": {},
   "outputs": [
    {
     "data": {
      "text/plain": [
       "array([1, 2, 3])"
      ]
     },
     "execution_count": 5,
     "metadata": {},
     "output_type": "execute_result"
    }
   ],
   "source": [
    "list = [1,2,3]\n",
    "import numpy as np\n",
    "arr = np.array(list)\n",
    "arr"
   ]
  },
  {
   "cell_type": "code",
   "execution_count": 3,
   "metadata": {},
   "outputs": [
    {
     "data": {
      "text/plain": [
       "[1, 2, 3]"
      ]
     },
     "execution_count": 3,
     "metadata": {},
     "output_type": "execute_result"
    }
   ],
   "source": [
    "my_list = [1,2,3]\n",
    "my_list"
   ]
  },
  {
   "cell_type": "code",
   "execution_count": 4,
   "metadata": {},
   "outputs": [
    {
     "data": {
      "text/plain": [
       "array([1, 2, 3])"
      ]
     },
     "execution_count": 4,
     "metadata": {},
     "output_type": "execute_result"
    }
   ],
   "source": [
    "np.array(my_list)"
   ]
  },
  {
   "cell_type": "code",
   "execution_count": 5,
   "metadata": {},
   "outputs": [
    {
     "data": {
      "text/plain": [
       "[[1, 2, 3], [4, 5, 6], [7, 8, 9]]"
      ]
     },
     "execution_count": 5,
     "metadata": {},
     "output_type": "execute_result"
    }
   ],
   "source": [
    "my_matrix = [[1,2,3],[4,5,6],[7,8,9]]\n",
    "my_matrix"
   ]
  },
  {
   "cell_type": "code",
   "execution_count": 6,
   "metadata": {},
   "outputs": [
    {
     "data": {
      "text/plain": [
       "array([[1, 2, 3],\n",
       "       [4, 5, 6],\n",
       "       [7, 8, 9]])"
      ]
     },
     "execution_count": 6,
     "metadata": {},
     "output_type": "execute_result"
    }
   ],
   "source": [
    "np.array(my_matrix)"
   ]
  },
  {
   "cell_type": "markdown",
   "metadata": {},
   "source": [
    "## Built-in Methods\n",
    "\n",
    "There are lots of built-in ways to generate Arrays"
   ]
  },
  {
   "cell_type": "markdown",
   "metadata": {},
   "source": [
    "### arange\n",
    "\n",
    "Return evenly spaced values within a given interval."
   ]
  },
  {
   "cell_type": "code",
   "execution_count": 6,
   "metadata": {},
   "outputs": [
    {
     "data": {
      "text/plain": [
       "array([ 0,  1,  2,  3,  4,  5,  6,  7,  8,  9, 10, 11, 12, 13, 14, 15, 16,\n",
       "       17, 18, 19, 20, 21, 22, 23, 24, 25, 26, 27, 28, 29, 30, 31, 32, 33,\n",
       "       34, 35, 36, 37, 38, 39, 40, 41, 42, 43, 44, 45, 46, 47, 48, 49, 50,\n",
       "       51, 52, 53, 54, 55])"
      ]
     },
     "execution_count": 6,
     "metadata": {},
     "output_type": "execute_result"
    }
   ],
   "source": [
    "np.arange(0,56)"
   ]
  },
  {
   "cell_type": "code",
   "execution_count": 23,
   "metadata": {},
   "outputs": [
    {
     "data": {
      "text/plain": [
       "array([ 0,  2,  4,  6,  8, 10])"
      ]
     },
     "execution_count": 23,
     "metadata": {},
     "output_type": "execute_result"
    }
   ],
   "source": [
    "np.arange(0,11,2)"
   ]
  },
  {
   "cell_type": "markdown",
   "metadata": {},
   "source": [
    "### zeros and ones\n",
    "\n",
    "Generate arrays of zeros or ones"
   ]
  },
  {
   "cell_type": "code",
   "execution_count": 24,
   "metadata": {},
   "outputs": [
    {
     "data": {
      "text/plain": [
       "array([ 0.,  0.,  0.])"
      ]
     },
     "execution_count": 24,
     "metadata": {},
     "output_type": "execute_result"
    }
   ],
   "source": [
    "np.zeros(3)"
   ]
  },
  {
   "cell_type": "code",
   "execution_count": 26,
   "metadata": {},
   "outputs": [
    {
     "data": {
      "text/plain": [
       "array([[ 0.,  0.,  0.,  0.,  0.],\n",
       "       [ 0.,  0.,  0.,  0.,  0.],\n",
       "       [ 0.,  0.,  0.,  0.,  0.],\n",
       "       [ 0.,  0.,  0.,  0.,  0.],\n",
       "       [ 0.,  0.,  0.,  0.,  0.]])"
      ]
     },
     "execution_count": 26,
     "metadata": {},
     "output_type": "execute_result"
    }
   ],
   "source": [
    "np.zeros((5,5))"
   ]
  },
  {
   "cell_type": "code",
   "execution_count": 27,
   "metadata": {},
   "outputs": [
    {
     "data": {
      "text/plain": [
       "array([ 1.,  1.,  1.])"
      ]
     },
     "execution_count": 27,
     "metadata": {},
     "output_type": "execute_result"
    }
   ],
   "source": [
    "np.ones(3)"
   ]
  },
  {
   "cell_type": "code",
   "execution_count": 28,
   "metadata": {},
   "outputs": [
    {
     "data": {
      "text/plain": [
       "array([[ 1.,  1.,  1.],\n",
       "       [ 1.,  1.,  1.],\n",
       "       [ 1.,  1.,  1.]])"
      ]
     },
     "execution_count": 28,
     "metadata": {},
     "output_type": "execute_result"
    }
   ],
   "source": [
    "np.ones((3,3))"
   ]
  },
  {
   "cell_type": "code",
   "execution_count": 8,
   "metadata": {},
   "outputs": [
    {
     "data": {
      "text/plain": [
       "array([[1., 1., 1.],\n",
       "       [1., 1., 1.]])"
      ]
     },
     "execution_count": 8,
     "metadata": {},
     "output_type": "execute_result"
    }
   ],
   "source": [
    "np.ones((2,3))"
   ]
  },
  {
   "cell_type": "markdown",
   "metadata": {},
   "source": [
    "### linspace\n",
    "Return evenly spaced numbers over a specified interval."
   ]
  },
  {
   "cell_type": "code",
   "execution_count": 29,
   "metadata": {},
   "outputs": [
    {
     "data": {
      "text/plain": [
       "array([  0.,   5.,  10.])"
      ]
     },
     "execution_count": 29,
     "metadata": {},
     "output_type": "execute_result"
    }
   ],
   "source": [
    "np.linspace(0,10,3)"
   ]
  },
  {
   "cell_type": "code",
   "execution_count": 9,
   "metadata": {},
   "outputs": [
    {
     "data": {
      "text/plain": [
       "array([ 0.        ,  0.02004008,  0.04008016,  0.06012024,  0.08016032,\n",
       "        0.1002004 ,  0.12024048,  0.14028056,  0.16032064,  0.18036072,\n",
       "        0.2004008 ,  0.22044088,  0.24048096,  0.26052104,  0.28056112,\n",
       "        0.3006012 ,  0.32064128,  0.34068136,  0.36072144,  0.38076152,\n",
       "        0.4008016 ,  0.42084168,  0.44088176,  0.46092184,  0.48096192,\n",
       "        0.501002  ,  0.52104208,  0.54108216,  0.56112224,  0.58116232,\n",
       "        0.6012024 ,  0.62124248,  0.64128257,  0.66132265,  0.68136273,\n",
       "        0.70140281,  0.72144289,  0.74148297,  0.76152305,  0.78156313,\n",
       "        0.80160321,  0.82164329,  0.84168337,  0.86172345,  0.88176353,\n",
       "        0.90180361,  0.92184369,  0.94188377,  0.96192385,  0.98196393,\n",
       "        1.00200401,  1.02204409,  1.04208417,  1.06212425,  1.08216433,\n",
       "        1.10220441,  1.12224449,  1.14228457,  1.16232465,  1.18236473,\n",
       "        1.20240481,  1.22244489,  1.24248497,  1.26252505,  1.28256513,\n",
       "        1.30260521,  1.32264529,  1.34268537,  1.36272545,  1.38276553,\n",
       "        1.40280561,  1.42284569,  1.44288577,  1.46292585,  1.48296593,\n",
       "        1.50300601,  1.52304609,  1.54308617,  1.56312625,  1.58316633,\n",
       "        1.60320641,  1.62324649,  1.64328657,  1.66332665,  1.68336673,\n",
       "        1.70340681,  1.72344689,  1.74348697,  1.76352705,  1.78356713,\n",
       "        1.80360721,  1.82364729,  1.84368737,  1.86372745,  1.88376754,\n",
       "        1.90380762,  1.9238477 ,  1.94388778,  1.96392786,  1.98396794,\n",
       "        2.00400802,  2.0240481 ,  2.04408818,  2.06412826,  2.08416834,\n",
       "        2.10420842,  2.1242485 ,  2.14428858,  2.16432866,  2.18436874,\n",
       "        2.20440882,  2.2244489 ,  2.24448898,  2.26452906,  2.28456914,\n",
       "        2.30460922,  2.3246493 ,  2.34468938,  2.36472946,  2.38476954,\n",
       "        2.40480962,  2.4248497 ,  2.44488978,  2.46492986,  2.48496994,\n",
       "        2.50501002,  2.5250501 ,  2.54509018,  2.56513026,  2.58517034,\n",
       "        2.60521042,  2.6252505 ,  2.64529058,  2.66533066,  2.68537074,\n",
       "        2.70541082,  2.7254509 ,  2.74549098,  2.76553106,  2.78557114,\n",
       "        2.80561122,  2.8256513 ,  2.84569138,  2.86573146,  2.88577154,\n",
       "        2.90581162,  2.9258517 ,  2.94589178,  2.96593186,  2.98597194,\n",
       "        3.00601202,  3.0260521 ,  3.04609218,  3.06613226,  3.08617234,\n",
       "        3.10621242,  3.12625251,  3.14629259,  3.16633267,  3.18637275,\n",
       "        3.20641283,  3.22645291,  3.24649299,  3.26653307,  3.28657315,\n",
       "        3.30661323,  3.32665331,  3.34669339,  3.36673347,  3.38677355,\n",
       "        3.40681363,  3.42685371,  3.44689379,  3.46693387,  3.48697395,\n",
       "        3.50701403,  3.52705411,  3.54709419,  3.56713427,  3.58717435,\n",
       "        3.60721443,  3.62725451,  3.64729459,  3.66733467,  3.68737475,\n",
       "        3.70741483,  3.72745491,  3.74749499,  3.76753507,  3.78757515,\n",
       "        3.80761523,  3.82765531,  3.84769539,  3.86773547,  3.88777555,\n",
       "        3.90781563,  3.92785571,  3.94789579,  3.96793587,  3.98797595,\n",
       "        4.00801603,  4.02805611,  4.04809619,  4.06813627,  4.08817635,\n",
       "        4.10821643,  4.12825651,  4.14829659,  4.16833667,  4.18837675,\n",
       "        4.20841683,  4.22845691,  4.24849699,  4.26853707,  4.28857715,\n",
       "        4.30861723,  4.32865731,  4.34869739,  4.36873747,  4.38877756,\n",
       "        4.40881764,  4.42885772,  4.4488978 ,  4.46893788,  4.48897796,\n",
       "        4.50901804,  4.52905812,  4.5490982 ,  4.56913828,  4.58917836,\n",
       "        4.60921844,  4.62925852,  4.6492986 ,  4.66933868,  4.68937876,\n",
       "        4.70941884,  4.72945892,  4.749499  ,  4.76953908,  4.78957916,\n",
       "        4.80961924,  4.82965932,  4.8496994 ,  4.86973948,  4.88977956,\n",
       "        4.90981964,  4.92985972,  4.9498998 ,  4.96993988,  4.98997996,\n",
       "        5.01002004,  5.03006012,  5.0501002 ,  5.07014028,  5.09018036,\n",
       "        5.11022044,  5.13026052,  5.1503006 ,  5.17034068,  5.19038076,\n",
       "        5.21042084,  5.23046092,  5.250501  ,  5.27054108,  5.29058116,\n",
       "        5.31062124,  5.33066132,  5.3507014 ,  5.37074148,  5.39078156,\n",
       "        5.41082164,  5.43086172,  5.4509018 ,  5.47094188,  5.49098196,\n",
       "        5.51102204,  5.53106212,  5.5511022 ,  5.57114228,  5.59118236,\n",
       "        5.61122244,  5.63126253,  5.65130261,  5.67134269,  5.69138277,\n",
       "        5.71142285,  5.73146293,  5.75150301,  5.77154309,  5.79158317,\n",
       "        5.81162325,  5.83166333,  5.85170341,  5.87174349,  5.89178357,\n",
       "        5.91182365,  5.93186373,  5.95190381,  5.97194389,  5.99198397,\n",
       "        6.01202405,  6.03206413,  6.05210421,  6.07214429,  6.09218437,\n",
       "        6.11222445,  6.13226453,  6.15230461,  6.17234469,  6.19238477,\n",
       "        6.21242485,  6.23246493,  6.25250501,  6.27254509,  6.29258517,\n",
       "        6.31262525,  6.33266533,  6.35270541,  6.37274549,  6.39278557,\n",
       "        6.41282565,  6.43286573,  6.45290581,  6.47294589,  6.49298597,\n",
       "        6.51302605,  6.53306613,  6.55310621,  6.57314629,  6.59318637,\n",
       "        6.61322645,  6.63326653,  6.65330661,  6.67334669,  6.69338677,\n",
       "        6.71342685,  6.73346693,  6.75350701,  6.77354709,  6.79358717,\n",
       "        6.81362725,  6.83366733,  6.85370741,  6.87374749,  6.89378758,\n",
       "        6.91382766,  6.93386774,  6.95390782,  6.9739479 ,  6.99398798,\n",
       "        7.01402806,  7.03406814,  7.05410822,  7.0741483 ,  7.09418838,\n",
       "        7.11422846,  7.13426854,  7.15430862,  7.1743487 ,  7.19438878,\n",
       "        7.21442886,  7.23446894,  7.25450902,  7.2745491 ,  7.29458918,\n",
       "        7.31462926,  7.33466934,  7.35470942,  7.3747495 ,  7.39478958,\n",
       "        7.41482966,  7.43486974,  7.45490982,  7.4749499 ,  7.49498998,\n",
       "        7.51503006,  7.53507014,  7.55511022,  7.5751503 ,  7.59519038,\n",
       "        7.61523046,  7.63527054,  7.65531062,  7.6753507 ,  7.69539078,\n",
       "        7.71543086,  7.73547094,  7.75551102,  7.7755511 ,  7.79559118,\n",
       "        7.81563126,  7.83567134,  7.85571142,  7.8757515 ,  7.89579158,\n",
       "        7.91583166,  7.93587174,  7.95591182,  7.9759519 ,  7.99599198,\n",
       "        8.01603206,  8.03607214,  8.05611222,  8.0761523 ,  8.09619238,\n",
       "        8.11623246,  8.13627255,  8.15631263,  8.17635271,  8.19639279,\n",
       "        8.21643287,  8.23647295,  8.25651303,  8.27655311,  8.29659319,\n",
       "        8.31663327,  8.33667335,  8.35671343,  8.37675351,  8.39679359,\n",
       "        8.41683367,  8.43687375,  8.45691383,  8.47695391,  8.49699399,\n",
       "        8.51703407,  8.53707415,  8.55711423,  8.57715431,  8.59719439,\n",
       "        8.61723447,  8.63727455,  8.65731463,  8.67735471,  8.69739479,\n",
       "        8.71743487,  8.73747495,  8.75751503,  8.77755511,  8.79759519,\n",
       "        8.81763527,  8.83767535,  8.85771543,  8.87775551,  8.89779559,\n",
       "        8.91783567,  8.93787575,  8.95791583,  8.97795591,  8.99799599,\n",
       "        9.01803607,  9.03807615,  9.05811623,  9.07815631,  9.09819639,\n",
       "        9.11823647,  9.13827655,  9.15831663,  9.17835671,  9.19839679,\n",
       "        9.21843687,  9.23847695,  9.25851703,  9.27855711,  9.29859719,\n",
       "        9.31863727,  9.33867735,  9.35871743,  9.37875752,  9.3987976 ,\n",
       "        9.41883768,  9.43887776,  9.45891784,  9.47895792,  9.498998  ,\n",
       "        9.51903808,  9.53907816,  9.55911824,  9.57915832,  9.5991984 ,\n",
       "        9.61923848,  9.63927856,  9.65931864,  9.67935872,  9.6993988 ,\n",
       "        9.71943888,  9.73947896,  9.75951904,  9.77955912,  9.7995992 ,\n",
       "        9.81963928,  9.83967936,  9.85971944,  9.87975952,  9.8997996 ,\n",
       "        9.91983968,  9.93987976,  9.95991984,  9.97995992, 10.        ])"
      ]
     },
     "execution_count": 9,
     "metadata": {},
     "output_type": "execute_result"
    }
   ],
   "source": [
    "np.linspace(0,10,500)"
   ]
  },
  {
   "cell_type": "markdown",
   "metadata": {},
   "source": [
    "## eye\n",
    "\n",
    "Creates an identity matrix"
   ]
  },
  {
   "cell_type": "code",
   "execution_count": 10,
   "metadata": {},
   "outputs": [
    {
     "data": {
      "text/plain": [
       "array([[1., 0., 0., 0., 0., 0., 0.],\n",
       "       [0., 1., 0., 0., 0., 0., 0.],\n",
       "       [0., 0., 1., 0., 0., 0., 0.],\n",
       "       [0., 0., 0., 1., 0., 0., 0.],\n",
       "       [0., 0., 0., 0., 1., 0., 0.],\n",
       "       [0., 0., 0., 0., 0., 1., 0.],\n",
       "       [0., 0., 0., 0., 0., 0., 1.]])"
      ]
     },
     "execution_count": 10,
     "metadata": {},
     "output_type": "execute_result"
    }
   ],
   "source": [
    "np.eye(7)"
   ]
  },
  {
   "cell_type": "markdown",
   "metadata": {},
   "source": [
    "## Random \n",
    "\n",
    "Numpy also has lots of ways to create random number arrays:\n",
    "\n",
    "### rand\n",
    "Create an array of the given shape and populate it with\n",
    "random samples from a uniform distribution\n",
    "over ``[0, 1)``."
   ]
  },
  {
   "cell_type": "code",
   "execution_count": 47,
   "metadata": {},
   "outputs": [
    {
     "data": {
      "text/plain": [
       "array([ 0.11570539,  0.35279769])"
      ]
     },
     "execution_count": 47,
     "metadata": {},
     "output_type": "execute_result"
    }
   ],
   "source": [
    "np.random.rand(2)"
   ]
  },
  {
   "cell_type": "code",
   "execution_count": 46,
   "metadata": {},
   "outputs": [
    {
     "data": {
      "text/plain": [
       "array([[ 0.66660768,  0.87589888,  0.12421056,  0.65074126,  0.60260888],\n",
       "       [ 0.70027668,  0.85572434,  0.8464595 ,  0.2735416 ,  0.10955384],\n",
       "       [ 0.0670566 ,  0.83267738,  0.9082729 ,  0.58249129,  0.12305748],\n",
       "       [ 0.27948423,  0.66422017,  0.95639833,  0.34238788,  0.9578872 ],\n",
       "       [ 0.72155386,  0.3035422 ,  0.85249683,  0.30414307,  0.79718816]])"
      ]
     },
     "execution_count": 46,
     "metadata": {},
     "output_type": "execute_result"
    }
   ],
   "source": [
    "np.random.rand(5,5)"
   ]
  },
  {
   "cell_type": "markdown",
   "metadata": {},
   "source": [
    "### randn\n",
    "\n",
    "Return a sample (or samples) from the \"standard normal\" distribution. Unlike rand which is uniform:"
   ]
  },
  {
   "cell_type": "code",
   "execution_count": 48,
   "metadata": {},
   "outputs": [
    {
     "data": {
      "text/plain": [
       "array([-0.27954018,  0.90078368])"
      ]
     },
     "execution_count": 48,
     "metadata": {},
     "output_type": "execute_result"
    }
   ],
   "source": [
    "np.random.randn(2)"
   ]
  },
  {
   "cell_type": "code",
   "execution_count": 45,
   "metadata": {},
   "outputs": [
    {
     "data": {
      "text/plain": [
       "array([[ 0.70154515,  0.22441999,  1.33563186,  0.82872577, -0.28247509],\n",
       "       [ 0.64489788,  0.61815094, -0.81693168, -0.30102424, -0.29030574],\n",
       "       [ 0.8695976 ,  0.413755  ,  2.20047208,  0.17955692, -0.82159344],\n",
       "       [ 0.59264235,  1.29869894, -1.18870241,  0.11590888, -0.09181687],\n",
       "       [-0.96924265, -1.62888685, -2.05787102, -0.29705576,  0.68915542]])"
      ]
     },
     "execution_count": 45,
     "metadata": {},
     "output_type": "execute_result"
    }
   ],
   "source": [
    "np.random.randn(5,5)"
   ]
  },
  {
   "cell_type": "markdown",
   "metadata": {},
   "source": [
    "### randint\n",
    "Return random integers from `low` (inclusive) to `high` (exclusive)."
   ]
  },
  {
   "cell_type": "code",
   "execution_count": 50,
   "metadata": {},
   "outputs": [
    {
     "data": {
      "text/plain": [
       "44"
      ]
     },
     "execution_count": 50,
     "metadata": {},
     "output_type": "execute_result"
    }
   ],
   "source": [
    "np.random.randint(1,100)"
   ]
  },
  {
   "cell_type": "code",
   "execution_count": 51,
   "metadata": {},
   "outputs": [
    {
     "data": {
      "text/plain": [
       "array([13, 64, 27, 63, 46, 68, 92, 10, 58, 24])"
      ]
     },
     "execution_count": 51,
     "metadata": {},
     "output_type": "execute_result"
    }
   ],
   "source": [
    "np.random.randint(1,100,10)"
   ]
  },
  {
   "cell_type": "markdown",
   "metadata": {},
   "source": [
    "## Array Attributes and Methods\n",
    "\n",
    "Let's discuss some useful attributes and methods or an array:"
   ]
  },
  {
   "cell_type": "code",
   "execution_count": 55,
   "metadata": {
    "collapsed": true
   },
   "outputs": [],
   "source": [
    "arr = np.arange(25)\n",
    "ranarr = np.random.randint(0,50,10)"
   ]
  },
  {
   "cell_type": "code",
   "execution_count": 56,
   "metadata": {},
   "outputs": [
    {
     "data": {
      "text/plain": [
       "array([ 0,  1,  2,  3,  4,  5,  6,  7,  8,  9, 10, 11, 12, 13, 14, 15, 16,\n",
       "       17, 18, 19, 20, 21, 22, 23, 24])"
      ]
     },
     "execution_count": 56,
     "metadata": {},
     "output_type": "execute_result"
    }
   ],
   "source": [
    "arr"
   ]
  },
  {
   "cell_type": "code",
   "execution_count": 57,
   "metadata": {},
   "outputs": [
    {
     "data": {
      "text/plain": [
       "array([10, 12, 41, 17, 49,  2, 46,  3, 19, 39])"
      ]
     },
     "execution_count": 57,
     "metadata": {},
     "output_type": "execute_result"
    }
   ],
   "source": [
    "ranarr"
   ]
  },
  {
   "cell_type": "markdown",
   "metadata": {},
   "source": [
    "## Reshape\n",
    "Returns an array containing the same data with a new shape."
   ]
  },
  {
   "cell_type": "code",
   "execution_count": 54,
   "metadata": {},
   "outputs": [
    {
     "data": {
      "text/plain": [
       "array([[ 0,  1,  2,  3,  4],\n",
       "       [ 5,  6,  7,  8,  9],\n",
       "       [10, 11, 12, 13, 14],\n",
       "       [15, 16, 17, 18, 19],\n",
       "       [20, 21, 22, 23, 24]])"
      ]
     },
     "execution_count": 54,
     "metadata": {},
     "output_type": "execute_result"
    }
   ],
   "source": [
    "arr.reshape(5,5)"
   ]
  },
  {
   "cell_type": "markdown",
   "metadata": {},
   "source": [
    "### max,min,argmax,argmin\n",
    "\n",
    "These are useful methods for finding max or min values. Or to find their index locations using argmin or argmax"
   ]
  },
  {
   "cell_type": "code",
   "execution_count": 64,
   "metadata": {},
   "outputs": [
    {
     "data": {
      "text/plain": [
       "array([10, 12, 41, 17, 49,  2, 46,  3, 19, 39])"
      ]
     },
     "execution_count": 64,
     "metadata": {},
     "output_type": "execute_result"
    }
   ],
   "source": [
    "ranarr"
   ]
  },
  {
   "cell_type": "code",
   "execution_count": 61,
   "metadata": {},
   "outputs": [
    {
     "data": {
      "text/plain": [
       "49"
      ]
     },
     "execution_count": 61,
     "metadata": {},
     "output_type": "execute_result"
    }
   ],
   "source": [
    "ranarr.max()"
   ]
  },
  {
   "cell_type": "code",
   "execution_count": 62,
   "metadata": {},
   "outputs": [
    {
     "data": {
      "text/plain": [
       "4"
      ]
     },
     "execution_count": 62,
     "metadata": {},
     "output_type": "execute_result"
    }
   ],
   "source": [
    "ranarr.argmax()"
   ]
  },
  {
   "cell_type": "code",
   "execution_count": 63,
   "metadata": {},
   "outputs": [
    {
     "data": {
      "text/plain": [
       "2"
      ]
     },
     "execution_count": 63,
     "metadata": {},
     "output_type": "execute_result"
    }
   ],
   "source": [
    "ranarr.min()"
   ]
  },
  {
   "cell_type": "code",
   "execution_count": 60,
   "metadata": {},
   "outputs": [
    {
     "data": {
      "text/plain": [
       "5"
      ]
     },
     "execution_count": 60,
     "metadata": {},
     "output_type": "execute_result"
    }
   ],
   "source": [
    "ranarr.argmin()"
   ]
  },
  {
   "cell_type": "markdown",
   "metadata": {},
   "source": [
    "## Shape\n",
    "\n",
    "Shape is an attribute that arrays have (not a method):"
   ]
  },
  {
   "cell_type": "code",
   "execution_count": 65,
   "metadata": {},
   "outputs": [
    {
     "data": {
      "text/plain": [
       "(25,)"
      ]
     },
     "execution_count": 65,
     "metadata": {},
     "output_type": "execute_result"
    }
   ],
   "source": [
    "# Vector\n",
    "arr.shape"
   ]
  },
  {
   "cell_type": "code",
   "execution_count": 66,
   "metadata": {},
   "outputs": [
    {
     "data": {
      "text/plain": [
       "array([[ 0,  1,  2,  3,  4,  5,  6,  7,  8,  9, 10, 11, 12, 13, 14, 15, 16,\n",
       "        17, 18, 19, 20, 21, 22, 23, 24]])"
      ]
     },
     "execution_count": 66,
     "metadata": {},
     "output_type": "execute_result"
    }
   ],
   "source": [
    "# Notice the two sets of brackets\n",
    "arr.reshape(1,25)"
   ]
  },
  {
   "cell_type": "code",
   "execution_count": 69,
   "metadata": {},
   "outputs": [
    {
     "data": {
      "text/plain": [
       "(1, 25)"
      ]
     },
     "execution_count": 69,
     "metadata": {},
     "output_type": "execute_result"
    }
   ],
   "source": [
    "arr.reshape(1,25).shape"
   ]
  },
  {
   "cell_type": "code",
   "execution_count": 70,
   "metadata": {},
   "outputs": [
    {
     "data": {
      "text/plain": [
       "array([[ 0],\n",
       "       [ 1],\n",
       "       [ 2],\n",
       "       [ 3],\n",
       "       [ 4],\n",
       "       [ 5],\n",
       "       [ 6],\n",
       "       [ 7],\n",
       "       [ 8],\n",
       "       [ 9],\n",
       "       [10],\n",
       "       [11],\n",
       "       [12],\n",
       "       [13],\n",
       "       [14],\n",
       "       [15],\n",
       "       [16],\n",
       "       [17],\n",
       "       [18],\n",
       "       [19],\n",
       "       [20],\n",
       "       [21],\n",
       "       [22],\n",
       "       [23],\n",
       "       [24]])"
      ]
     },
     "execution_count": 70,
     "metadata": {},
     "output_type": "execute_result"
    }
   ],
   "source": [
    "arr.reshape(25,1)"
   ]
  },
  {
   "cell_type": "code",
   "execution_count": 76,
   "metadata": {},
   "outputs": [
    {
     "data": {
      "text/plain": [
       "(25, 1)"
      ]
     },
     "execution_count": 76,
     "metadata": {},
     "output_type": "execute_result"
    }
   ],
   "source": [
    "arr.reshape(25,1).shape"
   ]
  },
  {
   "cell_type": "markdown",
   "metadata": {},
   "source": [
    "### dtype\n",
    "\n",
    "You can also grab the data type of the object in the array:"
   ]
  },
  {
   "cell_type": "code",
   "execution_count": 75,
   "metadata": {},
   "outputs": [
    {
     "data": {
      "text/plain": [
       "dtype('int64')"
      ]
     },
     "execution_count": 75,
     "metadata": {},
     "output_type": "execute_result"
    }
   ],
   "source": [
    "arr.dtype"
   ]
  },
  {
   "cell_type": "markdown",
   "metadata": {},
   "source": [
    "# Great Job!"
   ]
  }
 ],
 "metadata": {
  "kernelspec": {
   "display_name": "Python 3",
   "language": "python",
   "name": "python3"
  },
  "language_info": {
   "codemirror_mode": {
    "name": "ipython",
    "version": 3
   },
   "file_extension": ".py",
   "mimetype": "text/x-python",
   "name": "python",
   "nbconvert_exporter": "python",
   "pygments_lexer": "ipython3",
   "version": "3.8.8"
  }
 },
 "nbformat": 4,
 "nbformat_minor": 1
}
